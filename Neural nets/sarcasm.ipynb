{
 "cells": [
  {
   "cell_type": "code",
   "execution_count": 1,
   "metadata": {},
   "outputs": [],
   "source": [
    "import json\n",
    "import tensorflow as tf\n",
    "import numpy as np\n",
    "import urllib\n",
    "from tensorflow.keras.preprocessing.text import Tokenizer\n",
    "from tensorflow.keras.preprocessing.sequence import pad_sequences"
   ]
  },
  {
   "cell_type": "code",
   "execution_count": 2,
   "metadata": {},
   "outputs": [
    {
     "data": {
      "text/plain": [
       "('sarcasm.json', <http.client.HTTPMessage at 0x28dce029ac0>)"
      ]
     },
     "execution_count": 2,
     "metadata": {},
     "output_type": "execute_result"
    }
   ],
   "source": [
    "url = 'https://storage.googleapis.com/download.tensorflow.org/data/sarcasm.json'\n",
    "urllib.request.urlretrieve(url, 'sarcasm.json')"
   ]
  },
  {
   "cell_type": "code",
   "execution_count": 18,
   "metadata": {},
   "outputs": [],
   "source": [
    "vocab_size = 1000\n",
    "embedding_dim = 16\n",
    "max_length = 120\n",
    "trunc_type='post'\n",
    "padding_type='post'\n",
    "oov_tok = \"<OOV>\"\n",
    "training_size = 20000\n",
    "\n",
    "sentences = []\n",
    "labels = []"
   ]
  },
  {
   "cell_type": "code",
   "execution_count": 22,
   "metadata": {},
   "outputs": [],
   "source": [
    "with open(\"sarcasm.json\", \"r\") as json_file:\n",
    "    data = json.load(json_file)\n",
    "    for row in data:\n",
    "        sentences.append(row['headline'])\n",
    "        labels.append(int(row['is_sarcastic']))\n",
    "                      \n",
    "labels=np.array(labels)\n",
    "    \n"
   ]
  },
  {
   "cell_type": "code",
   "execution_count": 23,
   "metadata": {},
   "outputs": [],
   "source": [
    "train_sentences = sentences[:training_size]\n",
    "train_labels = labels[:training_size]\n",
    "\n",
    "validation_sentences = sentences[training_size:]\n",
    "validation_labels = labels[training_size:]"
   ]
  },
  {
   "cell_type": "code",
   "execution_count": 24,
   "metadata": {},
   "outputs": [
    {
     "name": "stdout",
     "output_type": "stream",
     "text": [
      "20000\n",
      "20000\n",
      "20000\n",
      "6709\n",
      "6709\n"
     ]
    }
   ],
   "source": [
    "print(training_size)\n",
    "print(len(train_sentences))\n",
    "print(len(train_labels))\n",
    "print(len(validation_sentences))\n",
    "print(len(validation_labels))"
   ]
  },
  {
   "cell_type": "code",
   "execution_count": 37,
   "metadata": {},
   "outputs": [],
   "source": [
    "tokenizer =Tokenizer(num_words=vocab_size,oov_token=oov_tok)\n",
    "tokenizer.fit_on_texts(train_sentences)\n",
    "word_index = tokenizer.word_index\n",
    "\n",
    "train_sequences = tokenizer.texts_to_sequences(train_sentences)\n",
    "train_padded = pad_sequences(train_sequences,maxlen=max_length,truncating=trunc_type,padding=padding_type)\n",
    "validation_sequences=tokenizer.texts_to_sequences(validation_sentences)\n",
    "validation_padded=pad_sequences(validation_sequences,maxlen=max_length,truncating=trunc_type,padding=padding_type)"
   ]
  },
  {
   "cell_type": "code",
   "execution_count": null,
   "metadata": {},
   "outputs": [],
   "source": [
    "\n"
   ]
  },
  {
   "cell_type": "code",
   "execution_count": 41,
   "metadata": {},
   "outputs": [
    {
     "name": "stdout",
     "output_type": "stream",
     "text": [
      "Model: \"sequential_13\"\n",
      "_________________________________________________________________\n",
      "Layer (type)                 Output Shape              Param #   \n",
      "=================================================================\n",
      "embedding_13 (Embedding)     (None, 120, 16)           16000     \n",
      "_________________________________________________________________\n",
      "conv1d_1 (Conv1D)            (None, 116, 128)          10368     \n",
      "_________________________________________________________________\n",
      "global_average_pooling1d_10  (None, 128)               0         \n",
      "_________________________________________________________________\n",
      "dense_26 (Dense)             (None, 6)                 774       \n",
      "_________________________________________________________________\n",
      "dense_27 (Dense)             (None, 6)                 42        \n",
      "_________________________________________________________________\n",
      "dense_28 (Dense)             (None, 1)                 7         \n",
      "=================================================================\n",
      "Total params: 27,191\n",
      "Trainable params: 27,191\n",
      "Non-trainable params: 0\n",
      "_________________________________________________________________\n",
      "Epoch 1/30\n",
      "625/625 [==============================] - 3s 5ms/step - loss: 0.5395 - acc: 0.7103 - val_loss: 0.4288 - val_acc: 0.7995\n",
      "Epoch 2/30\n",
      "625/625 [==============================] - 3s 5ms/step - loss: 0.3911 - acc: 0.8203 - val_loss: 0.4003 - val_acc: 0.8159\n",
      "Epoch 3/30\n",
      "625/625 [==============================] - 3s 5ms/step - loss: 0.3614 - acc: 0.8383 - val_loss: 0.3912 - val_acc: 0.8234\n",
      "Epoch 4/30\n",
      "625/625 [==============================] - 3s 5ms/step - loss: 0.3417 - acc: 0.8464 - val_loss: 0.3885 - val_acc: 0.8225\n",
      "Epoch 5/30\n",
      "625/625 [==============================] - 3s 5ms/step - loss: 0.3263 - acc: 0.8545 - val_loss: 0.3850 - val_acc: 0.8289\n",
      "Epoch 6/30\n",
      "625/625 [==============================] - 3s 5ms/step - loss: 0.3135 - acc: 0.8608 - val_loss: 0.3858 - val_acc: 0.8292\n",
      "Epoch 7/30\n",
      "625/625 [==============================] - 3s 5ms/step - loss: 0.3029 - acc: 0.8651 - val_loss: 0.3889 - val_acc: 0.8286\n",
      "Epoch 8/30\n",
      "625/625 [==============================] - 3s 5ms/step - loss: 0.2948 - acc: 0.8698 - val_loss: 0.3870 - val_acc: 0.8264\n",
      "Epoch 9/30\n",
      "625/625 [==============================] - 3s 5ms/step - loss: 0.2861 - acc: 0.8737 - val_loss: 0.3901 - val_acc: 0.8292\n",
      "Epoch 10/30\n",
      "625/625 [==============================] - 3s 5ms/step - loss: 0.2775 - acc: 0.8785 - val_loss: 0.3944 - val_acc: 0.8261\n",
      "Epoch 11/30\n",
      "625/625 [==============================] - 3s 5ms/step - loss: 0.2692 - acc: 0.8820 - val_loss: 0.4075 - val_acc: 0.8219\n",
      "Epoch 12/30\n",
      "625/625 [==============================] - 3s 5ms/step - loss: 0.2631 - acc: 0.8857 - val_loss: 0.4082 - val_acc: 0.8244\n",
      "Epoch 13/30\n",
      "625/625 [==============================] - 3s 5ms/step - loss: 0.2538 - acc: 0.8909 - val_loss: 0.4188 - val_acc: 0.8225\n",
      "Epoch 14/30\n",
      "625/625 [==============================] - 3s 5ms/step - loss: 0.2448 - acc: 0.8957 - val_loss: 0.4217 - val_acc: 0.8241\n",
      "Epoch 15/30\n",
      "625/625 [==============================] - 3s 5ms/step - loss: 0.2365 - acc: 0.8996 - val_loss: 0.4427 - val_acc: 0.8222\n",
      "Epoch 16/30\n",
      "625/625 [==============================] - 3s 5ms/step - loss: 0.2268 - acc: 0.9053 - val_loss: 0.4635 - val_acc: 0.8186\n",
      "Epoch 17/30\n",
      "625/625 [==============================] - 3s 5ms/step - loss: 0.2181 - acc: 0.9090 - val_loss: 0.4770 - val_acc: 0.8092\n",
      "Epoch 18/30\n",
      "625/625 [==============================] - 4s 6ms/step - loss: 0.2104 - acc: 0.9139 - val_loss: 0.4696 - val_acc: 0.8204\n",
      "Epoch 19/30\n",
      "625/625 [==============================] - 3s 6ms/step - loss: 0.1986 - acc: 0.9211 - val_loss: 0.4726 - val_acc: 0.8182\n",
      "Epoch 20/30\n",
      "625/625 [==============================] - 4s 6ms/step - loss: 0.1883 - acc: 0.9256 - val_loss: 0.4935 - val_acc: 0.8165\n",
      "Epoch 21/30\n",
      "625/625 [==============================] - 3s 5ms/step - loss: 0.1788 - acc: 0.9320 - val_loss: 0.5356 - val_acc: 0.8162\n",
      "Epoch 22/30\n",
      "625/625 [==============================] - 3s 5ms/step - loss: 0.1732 - acc: 0.9348 - val_loss: 0.5330 - val_acc: 0.8119\n",
      "Epoch 23/30\n",
      "625/625 [==============================] - 3s 5ms/step - loss: 0.1613 - acc: 0.9413 - val_loss: 0.5575 - val_acc: 0.8094\n",
      "Epoch 24/30\n",
      "625/625 [==============================] - 3s 5ms/step - loss: 0.1520 - acc: 0.9449 - val_loss: 0.5763 - val_acc: 0.8073\n",
      "Epoch 25/30\n",
      "625/625 [==============================] - 3s 5ms/step - loss: 0.1447 - acc: 0.9480 - val_loss: 0.6053 - val_acc: 0.8052\n",
      "Epoch 26/30\n",
      "625/625 [==============================] - 3s 5ms/step - loss: 0.1355 - acc: 0.9528 - val_loss: 0.6224 - val_acc: 0.8068\n",
      "Epoch 27/30\n",
      "625/625 [==============================] - 3s 5ms/step - loss: 0.1289 - acc: 0.9557 - val_loss: 0.6482 - val_acc: 0.8034\n",
      "Epoch 28/30\n",
      "625/625 [==============================] - 3s 5ms/step - loss: 0.1236 - acc: 0.9562 - val_loss: 0.6733 - val_acc: 0.7985\n",
      "Epoch 29/30\n",
      "625/625 [==============================] - 3s 5ms/step - loss: 0.1146 - acc: 0.9614 - val_loss: 0.6973 - val_acc: 0.8016\n",
      "Epoch 30/30\n",
      "625/625 [==============================] - 3s 5ms/step - loss: 0.1102 - acc: 0.9635 - val_loss: 0.7344 - val_acc: 0.7913\n"
     ]
    }
   ],
   "source": [
    "model = tf.keras.Sequential([tf.keras.layers.Embedding(input_dim=vocab_size,input_length=120,output_dim=16),\n",
    "                           tf.keras.layers.Conv1D(128,5,activation='relu'),\n",
    "                           tf.keras.layers.GlobalAveragePooling1D(),\n",
    "                           tf.keras.layers.Dense(units=6,activation='relu'),\n",
    "                           tf.keras.layers.Dense(units=6,activation='relu'),\n",
    "                           tf.keras.layers.Dense(1,activation='sigmoid')\n",
    "\n",
    "# YOUR CODE HERE\n",
    "])\n",
    "model.compile(loss='binary_crossentropy',optimizer='adam',metrics=['acc'])\n",
    "model.summary()\n",
    "\n",
    "num_epochs = 30\n",
    "history = model.fit(x=train_padded,y=train_labels,validation_data=(validation_padded,validation_labels),epochs=num_epochs)\n"
   ]
  },
  {
   "cell_type": "code",
   "execution_count": 50,
   "metadata": {},
   "outputs": [
    {
     "name": "stdout",
     "output_type": "stream",
     "text": [
      "Model: \"sequential_21\"\n",
      "_________________________________________________________________\n",
      "Layer (type)                 Output Shape              Param #   \n",
      "=================================================================\n",
      "embedding_21 (Embedding)     (None, 120, 16)           16000     \n",
      "_________________________________________________________________\n",
      "bidirectional_13 (Bidirectio (None, 64)                12544     \n",
      "_________________________________________________________________\n",
      "dense_44 (Dense)             (None, 16)                1040      \n",
      "_________________________________________________________________\n",
      "dropout (Dropout)            (None, 16)                0         \n",
      "_________________________________________________________________\n",
      "dense_45 (Dense)             (None, 16)                272       \n",
      "_________________________________________________________________\n",
      "dense_46 (Dense)             (None, 1)                 17        \n",
      "=================================================================\n",
      "Total params: 29,873\n",
      "Trainable params: 29,873\n",
      "Non-trainable params: 0\n",
      "_________________________________________________________________\n",
      "Epoch 1/10\n",
      "625/625 [==============================] - 13s 21ms/step - loss: 0.4844 - acc: 0.7480 - val_loss: 0.4032 - val_acc: 0.8193\n",
      "Epoch 2/10\n",
      "625/625 [==============================] - 12s 20ms/step - loss: 0.3731 - acc: 0.8321 - val_loss: 0.3850 - val_acc: 0.8247\n",
      "Epoch 3/10\n",
      "625/625 [==============================] - 12s 20ms/step - loss: 0.3480 - acc: 0.8450 - val_loss: 0.3736 - val_acc: 0.8298\n",
      "Epoch 4/10\n",
      "625/625 [==============================] - 12s 20ms/step - loss: 0.3250 - acc: 0.8561 - val_loss: 0.3679 - val_acc: 0.8304\n",
      "Epoch 5/10\n",
      "625/625 [==============================] - 13s 20ms/step - loss: 0.3089 - acc: 0.8640 - val_loss: 0.3700 - val_acc: 0.8347\n",
      "Epoch 6/10\n",
      "625/625 [==============================] - 13s 20ms/step - loss: 0.2975 - acc: 0.8720 - val_loss: 0.3784 - val_acc: 0.8323\n",
      "Epoch 7/10\n",
      "625/625 [==============================] - 13s 21ms/step - loss: 0.2873 - acc: 0.8792 - val_loss: 0.3777 - val_acc: 0.8323\n",
      "Epoch 8/10\n",
      "625/625 [==============================] - 13s 21ms/step - loss: 0.2771 - acc: 0.8817 - val_loss: 0.3906 - val_acc: 0.8286\n",
      "Epoch 9/10\n",
      "625/625 [==============================] - 13s 20ms/step - loss: 0.2700 - acc: 0.8843 - val_loss: 0.3883 - val_acc: 0.8301\n",
      "Epoch 10/10\n",
      "625/625 [==============================] - 13s 20ms/step - loss: 0.2606 - acc: 0.8895 - val_loss: 0.4010 - val_acc: 0.8313\n"
     ]
    }
   ],
   "source": [
    "model=tf.keras.Sequential([tf.keras.layers.Embedding(input_dim=vocab_size,input_length=120,output_dim=16),\n",
    "                           tf.keras.layers.Bidirectional(tf.keras.layers.LSTM(32)),\n",
    "                           tf.keras.layers.Dense(units=16,activation='relu'),\n",
    "                           tf.keras.layers.Dropout(0.2),\n",
    "                           tf.keras.layers.Dense(units=16,activation='relu'),\n",
    "                           tf.keras.layers.Dense(1,activation='sigmoid')])\n",
    "\n",
    "model.compile(loss='binary_crossentropy',optimizer='adam',metrics=['acc'])\n",
    "model.summary()\n",
    "\n",
    "num_epochs = 10\n",
    "history = model.fit(x=train_padded,y=train_labels,validation_data=(validation_padded,validation_labels),epochs=num_epochs)"
   ]
  },
  {
   "cell_type": "code",
   "execution_count": 55,
   "metadata": {},
   "outputs": [
    {
     "name": "stdout",
     "output_type": "stream",
     "text": [
      "Model: \"sequential_23\"\n",
      "_________________________________________________________________\n",
      "Layer (type)                 Output Shape              Param #   \n",
      "=================================================================\n",
      "embedding_22 (Embedding)     (None, 120, 16)           16000     \n",
      "_________________________________________________________________\n",
      "conv1d_3 (Conv1D)            (None, 120, 32)           2592      \n",
      "_________________________________________________________________\n",
      "bidirectional_14 (Bidirectio (None, 64)                12672     \n",
      "_________________________________________________________________\n",
      "dense_50 (Dense)             (None, 6)                 390       \n",
      "_________________________________________________________________\n",
      "dense_51 (Dense)             (None, 1)                 7         \n",
      "=================================================================\n",
      "Total params: 31,661\n",
      "Trainable params: 31,661\n",
      "Non-trainable params: 0\n",
      "_________________________________________________________________\n",
      "Epoch 1/30\n",
      "625/625 [==============================] - 24s 39ms/step - loss: 0.4499 - acc: 0.7718 - val_loss: 0.3947 - val_acc: 0.8149\n",
      "Epoch 2/30\n",
      "625/625 [==============================] - 13s 21ms/step - loss: 0.3659 - acc: 0.8307 - val_loss: 0.3884 - val_acc: 0.8253\n",
      "Epoch 3/30\n",
      "625/625 [==============================] - 13s 21ms/step - loss: 0.3356 - acc: 0.8479 - val_loss: 0.3782 - val_acc: 0.8271\n",
      "Epoch 4/30\n",
      "625/625 [==============================] - 13s 21ms/step - loss: 0.3118 - acc: 0.8602 - val_loss: 0.3809 - val_acc: 0.8331\n",
      "Epoch 5/30\n",
      "625/625 [==============================] - 13s 21ms/step - loss: 0.2982 - acc: 0.8670 - val_loss: 0.3804 - val_acc: 0.8301\n",
      "Epoch 6/30\n",
      "625/625 [==============================] - 13s 21ms/step - loss: 0.2854 - acc: 0.8744 - val_loss: 0.3807 - val_acc: 0.8246\n",
      "Epoch 7/30\n",
      "625/625 [==============================] - 15s 23ms/step - loss: 0.2717 - acc: 0.8831 - val_loss: 0.4013 - val_acc: 0.8277\n",
      "Epoch 8/30\n",
      "625/625 [==============================] - 13s 21ms/step - loss: 0.2592 - acc: 0.8888 - val_loss: 0.4273 - val_acc: 0.8204\n",
      "Epoch 9/30\n",
      "625/625 [==============================] - 13s 21ms/step - loss: 0.2412 - acc: 0.8980 - val_loss: 0.4238 - val_acc: 0.8207\n",
      "Epoch 10/30\n",
      "486/625 [======================>.......] - ETA: 2s - loss: 0.2195 - acc: 0.9085"
     ]
    },
    {
     "ename": "KeyboardInterrupt",
     "evalue": "",
     "output_type": "error",
     "traceback": [
      "\u001b[1;31m---------------------------------------------------------------------------\u001b[0m",
      "\u001b[1;31mKeyboardInterrupt\u001b[0m                         Traceback (most recent call last)",
      "\u001b[1;32m<ipython-input-55-4b8d101718e4>\u001b[0m in \u001b[0;36m<module>\u001b[1;34m\u001b[0m\n\u001b[0;32m     12\u001b[0m \u001b[1;33m\u001b[0m\u001b[0m\n\u001b[0;32m     13\u001b[0m \u001b[0mnum_epochs\u001b[0m \u001b[1;33m=\u001b[0m \u001b[1;36m30\u001b[0m\u001b[1;33m\u001b[0m\u001b[1;33m\u001b[0m\u001b[0m\n\u001b[1;32m---> 14\u001b[1;33m \u001b[0mhistory\u001b[0m \u001b[1;33m=\u001b[0m \u001b[0mmodel\u001b[0m\u001b[1;33m.\u001b[0m\u001b[0mfit\u001b[0m\u001b[1;33m(\u001b[0m\u001b[0mx\u001b[0m\u001b[1;33m=\u001b[0m\u001b[0mtrain_padded\u001b[0m\u001b[1;33m,\u001b[0m\u001b[0my\u001b[0m\u001b[1;33m=\u001b[0m\u001b[0mtrain_labels\u001b[0m\u001b[1;33m,\u001b[0m\u001b[0mvalidation_data\u001b[0m\u001b[1;33m=\u001b[0m\u001b[1;33m(\u001b[0m\u001b[0mvalidation_padded\u001b[0m\u001b[1;33m,\u001b[0m\u001b[0mvalidation_labels\u001b[0m\u001b[1;33m)\u001b[0m\u001b[1;33m,\u001b[0m\u001b[0mepochs\u001b[0m\u001b[1;33m=\u001b[0m\u001b[0mnum_epochs\u001b[0m\u001b[1;33m)\u001b[0m\u001b[1;33m\u001b[0m\u001b[1;33m\u001b[0m\u001b[0m\n\u001b[0m",
      "\u001b[1;32mc:\\users\\anu\\appdata\\local\\programs\\python\\python38\\lib\\site-packages\\tensorflow\\python\\keras\\engine\\training.py\u001b[0m in \u001b[0;36m_method_wrapper\u001b[1;34m(self, *args, **kwargs)\u001b[0m\n\u001b[0;32m    106\u001b[0m   \u001b[1;32mdef\u001b[0m \u001b[0m_method_wrapper\u001b[0m\u001b[1;33m(\u001b[0m\u001b[0mself\u001b[0m\u001b[1;33m,\u001b[0m \u001b[1;33m*\u001b[0m\u001b[0margs\u001b[0m\u001b[1;33m,\u001b[0m \u001b[1;33m**\u001b[0m\u001b[0mkwargs\u001b[0m\u001b[1;33m)\u001b[0m\u001b[1;33m:\u001b[0m\u001b[1;33m\u001b[0m\u001b[1;33m\u001b[0m\u001b[0m\n\u001b[0;32m    107\u001b[0m     \u001b[1;32mif\u001b[0m \u001b[1;32mnot\u001b[0m \u001b[0mself\u001b[0m\u001b[1;33m.\u001b[0m\u001b[0m_in_multi_worker_mode\u001b[0m\u001b[1;33m(\u001b[0m\u001b[1;33m)\u001b[0m\u001b[1;33m:\u001b[0m  \u001b[1;31m# pylint: disable=protected-access\u001b[0m\u001b[1;33m\u001b[0m\u001b[1;33m\u001b[0m\u001b[0m\n\u001b[1;32m--> 108\u001b[1;33m       \u001b[1;32mreturn\u001b[0m \u001b[0mmethod\u001b[0m\u001b[1;33m(\u001b[0m\u001b[0mself\u001b[0m\u001b[1;33m,\u001b[0m \u001b[1;33m*\u001b[0m\u001b[0margs\u001b[0m\u001b[1;33m,\u001b[0m \u001b[1;33m**\u001b[0m\u001b[0mkwargs\u001b[0m\u001b[1;33m)\u001b[0m\u001b[1;33m\u001b[0m\u001b[1;33m\u001b[0m\u001b[0m\n\u001b[0m\u001b[0;32m    109\u001b[0m \u001b[1;33m\u001b[0m\u001b[0m\n\u001b[0;32m    110\u001b[0m     \u001b[1;31m# Running inside `run_distribute_coordinator` already.\u001b[0m\u001b[1;33m\u001b[0m\u001b[1;33m\u001b[0m\u001b[1;33m\u001b[0m\u001b[0m\n",
      "\u001b[1;32mc:\\users\\anu\\appdata\\local\\programs\\python\\python38\\lib\\site-packages\\tensorflow\\python\\keras\\engine\\training.py\u001b[0m in \u001b[0;36mfit\u001b[1;34m(self, x, y, batch_size, epochs, verbose, callbacks, validation_split, validation_data, shuffle, class_weight, sample_weight, initial_epoch, steps_per_epoch, validation_steps, validation_batch_size, validation_freq, max_queue_size, workers, use_multiprocessing)\u001b[0m\n\u001b[0;32m   1096\u001b[0m                 batch_size=batch_size):\n\u001b[0;32m   1097\u001b[0m               \u001b[0mcallbacks\u001b[0m\u001b[1;33m.\u001b[0m\u001b[0mon_train_batch_begin\u001b[0m\u001b[1;33m(\u001b[0m\u001b[0mstep\u001b[0m\u001b[1;33m)\u001b[0m\u001b[1;33m\u001b[0m\u001b[1;33m\u001b[0m\u001b[0m\n\u001b[1;32m-> 1098\u001b[1;33m               \u001b[0mtmp_logs\u001b[0m \u001b[1;33m=\u001b[0m \u001b[0mtrain_function\u001b[0m\u001b[1;33m(\u001b[0m\u001b[0miterator\u001b[0m\u001b[1;33m)\u001b[0m\u001b[1;33m\u001b[0m\u001b[1;33m\u001b[0m\u001b[0m\n\u001b[0m\u001b[0;32m   1099\u001b[0m               \u001b[1;32mif\u001b[0m \u001b[0mdata_handler\u001b[0m\u001b[1;33m.\u001b[0m\u001b[0mshould_sync\u001b[0m\u001b[1;33m:\u001b[0m\u001b[1;33m\u001b[0m\u001b[1;33m\u001b[0m\u001b[0m\n\u001b[0;32m   1100\u001b[0m                 \u001b[0mcontext\u001b[0m\u001b[1;33m.\u001b[0m\u001b[0masync_wait\u001b[0m\u001b[1;33m(\u001b[0m\u001b[1;33m)\u001b[0m\u001b[1;33m\u001b[0m\u001b[1;33m\u001b[0m\u001b[0m\n",
      "\u001b[1;32mc:\\users\\anu\\appdata\\local\\programs\\python\\python38\\lib\\site-packages\\tensorflow\\python\\eager\\def_function.py\u001b[0m in \u001b[0;36m__call__\u001b[1;34m(self, *args, **kwds)\u001b[0m\n\u001b[0;32m    778\u001b[0m       \u001b[1;32melse\u001b[0m\u001b[1;33m:\u001b[0m\u001b[1;33m\u001b[0m\u001b[1;33m\u001b[0m\u001b[0m\n\u001b[0;32m    779\u001b[0m         \u001b[0mcompiler\u001b[0m \u001b[1;33m=\u001b[0m \u001b[1;34m\"nonXla\"\u001b[0m\u001b[1;33m\u001b[0m\u001b[1;33m\u001b[0m\u001b[0m\n\u001b[1;32m--> 780\u001b[1;33m         \u001b[0mresult\u001b[0m \u001b[1;33m=\u001b[0m \u001b[0mself\u001b[0m\u001b[1;33m.\u001b[0m\u001b[0m_call\u001b[0m\u001b[1;33m(\u001b[0m\u001b[1;33m*\u001b[0m\u001b[0margs\u001b[0m\u001b[1;33m,\u001b[0m \u001b[1;33m**\u001b[0m\u001b[0mkwds\u001b[0m\u001b[1;33m)\u001b[0m\u001b[1;33m\u001b[0m\u001b[1;33m\u001b[0m\u001b[0m\n\u001b[0m\u001b[0;32m    781\u001b[0m \u001b[1;33m\u001b[0m\u001b[0m\n\u001b[0;32m    782\u001b[0m       \u001b[0mnew_tracing_count\u001b[0m \u001b[1;33m=\u001b[0m \u001b[0mself\u001b[0m\u001b[1;33m.\u001b[0m\u001b[0m_get_tracing_count\u001b[0m\u001b[1;33m(\u001b[0m\u001b[1;33m)\u001b[0m\u001b[1;33m\u001b[0m\u001b[1;33m\u001b[0m\u001b[0m\n",
      "\u001b[1;32mc:\\users\\anu\\appdata\\local\\programs\\python\\python38\\lib\\site-packages\\tensorflow\\python\\eager\\def_function.py\u001b[0m in \u001b[0;36m_call\u001b[1;34m(self, *args, **kwds)\u001b[0m\n\u001b[0;32m    805\u001b[0m       \u001b[1;31m# In this case we have created variables on the first call, so we run the\u001b[0m\u001b[1;33m\u001b[0m\u001b[1;33m\u001b[0m\u001b[1;33m\u001b[0m\u001b[0m\n\u001b[0;32m    806\u001b[0m       \u001b[1;31m# defunned version which is guaranteed to never create variables.\u001b[0m\u001b[1;33m\u001b[0m\u001b[1;33m\u001b[0m\u001b[1;33m\u001b[0m\u001b[0m\n\u001b[1;32m--> 807\u001b[1;33m       \u001b[1;32mreturn\u001b[0m \u001b[0mself\u001b[0m\u001b[1;33m.\u001b[0m\u001b[0m_stateless_fn\u001b[0m\u001b[1;33m(\u001b[0m\u001b[1;33m*\u001b[0m\u001b[0margs\u001b[0m\u001b[1;33m,\u001b[0m \u001b[1;33m**\u001b[0m\u001b[0mkwds\u001b[0m\u001b[1;33m)\u001b[0m  \u001b[1;31m# pylint: disable=not-callable\u001b[0m\u001b[1;33m\u001b[0m\u001b[1;33m\u001b[0m\u001b[0m\n\u001b[0m\u001b[0;32m    808\u001b[0m     \u001b[1;32melif\u001b[0m \u001b[0mself\u001b[0m\u001b[1;33m.\u001b[0m\u001b[0m_stateful_fn\u001b[0m \u001b[1;32mis\u001b[0m \u001b[1;32mnot\u001b[0m \u001b[1;32mNone\u001b[0m\u001b[1;33m:\u001b[0m\u001b[1;33m\u001b[0m\u001b[1;33m\u001b[0m\u001b[0m\n\u001b[0;32m    809\u001b[0m       \u001b[1;31m# Release the lock early so that multiple threads can perform the call\u001b[0m\u001b[1;33m\u001b[0m\u001b[1;33m\u001b[0m\u001b[1;33m\u001b[0m\u001b[0m\n",
      "\u001b[1;32mc:\\users\\anu\\appdata\\local\\programs\\python\\python38\\lib\\site-packages\\tensorflow\\python\\eager\\function.py\u001b[0m in \u001b[0;36m__call__\u001b[1;34m(self, *args, **kwargs)\u001b[0m\n\u001b[0;32m   2827\u001b[0m     \u001b[1;32mwith\u001b[0m \u001b[0mself\u001b[0m\u001b[1;33m.\u001b[0m\u001b[0m_lock\u001b[0m\u001b[1;33m:\u001b[0m\u001b[1;33m\u001b[0m\u001b[1;33m\u001b[0m\u001b[0m\n\u001b[0;32m   2828\u001b[0m       \u001b[0mgraph_function\u001b[0m\u001b[1;33m,\u001b[0m \u001b[0margs\u001b[0m\u001b[1;33m,\u001b[0m \u001b[0mkwargs\u001b[0m \u001b[1;33m=\u001b[0m \u001b[0mself\u001b[0m\u001b[1;33m.\u001b[0m\u001b[0m_maybe_define_function\u001b[0m\u001b[1;33m(\u001b[0m\u001b[0margs\u001b[0m\u001b[1;33m,\u001b[0m \u001b[0mkwargs\u001b[0m\u001b[1;33m)\u001b[0m\u001b[1;33m\u001b[0m\u001b[1;33m\u001b[0m\u001b[0m\n\u001b[1;32m-> 2829\u001b[1;33m     \u001b[1;32mreturn\u001b[0m \u001b[0mgraph_function\u001b[0m\u001b[1;33m.\u001b[0m\u001b[0m_filtered_call\u001b[0m\u001b[1;33m(\u001b[0m\u001b[0margs\u001b[0m\u001b[1;33m,\u001b[0m \u001b[0mkwargs\u001b[0m\u001b[1;33m)\u001b[0m  \u001b[1;31m# pylint: disable=protected-access\u001b[0m\u001b[1;33m\u001b[0m\u001b[1;33m\u001b[0m\u001b[0m\n\u001b[0m\u001b[0;32m   2830\u001b[0m \u001b[1;33m\u001b[0m\u001b[0m\n\u001b[0;32m   2831\u001b[0m   \u001b[1;33m@\u001b[0m\u001b[0mproperty\u001b[0m\u001b[1;33m\u001b[0m\u001b[1;33m\u001b[0m\u001b[0m\n",
      "\u001b[1;32mc:\\users\\anu\\appdata\\local\\programs\\python\\python38\\lib\\site-packages\\tensorflow\\python\\eager\\function.py\u001b[0m in \u001b[0;36m_filtered_call\u001b[1;34m(self, args, kwargs, cancellation_manager)\u001b[0m\n\u001b[0;32m   1841\u001b[0m       \u001b[0;31m`\u001b[0m\u001b[0margs\u001b[0m\u001b[0;31m`\u001b[0m \u001b[1;32mand\u001b[0m\u001b[0;31m \u001b[0m\u001b[0;31m`\u001b[0m\u001b[0mkwargs\u001b[0m\u001b[0;31m`\u001b[0m\u001b[1;33m.\u001b[0m\u001b[1;33m\u001b[0m\u001b[1;33m\u001b[0m\u001b[0m\n\u001b[0;32m   1842\u001b[0m     \"\"\"\n\u001b[1;32m-> 1843\u001b[1;33m     return self._call_flat(\n\u001b[0m\u001b[0;32m   1844\u001b[0m         [t for t in nest.flatten((args, kwargs), expand_composites=True)\n\u001b[0;32m   1845\u001b[0m          if isinstance(t, (ops.Tensor,\n",
      "\u001b[1;32mc:\\users\\anu\\appdata\\local\\programs\\python\\python38\\lib\\site-packages\\tensorflow\\python\\eager\\function.py\u001b[0m in \u001b[0;36m_call_flat\u001b[1;34m(self, args, captured_inputs, cancellation_manager)\u001b[0m\n\u001b[0;32m   1921\u001b[0m         and executing_eagerly):\n\u001b[0;32m   1922\u001b[0m       \u001b[1;31m# No tape is watching; skip to running the function.\u001b[0m\u001b[1;33m\u001b[0m\u001b[1;33m\u001b[0m\u001b[1;33m\u001b[0m\u001b[0m\n\u001b[1;32m-> 1923\u001b[1;33m       return self._build_call_outputs(self._inference_function.call(\n\u001b[0m\u001b[0;32m   1924\u001b[0m           ctx, args, cancellation_manager=cancellation_manager))\n\u001b[0;32m   1925\u001b[0m     forward_backward = self._select_forward_and_backward_functions(\n",
      "\u001b[1;32mc:\\users\\anu\\appdata\\local\\programs\\python\\python38\\lib\\site-packages\\tensorflow\\python\\eager\\function.py\u001b[0m in \u001b[0;36mcall\u001b[1;34m(self, ctx, args, cancellation_manager)\u001b[0m\n\u001b[0;32m    543\u001b[0m       \u001b[1;32mwith\u001b[0m \u001b[0m_InterpolateFunctionError\u001b[0m\u001b[1;33m(\u001b[0m\u001b[0mself\u001b[0m\u001b[1;33m)\u001b[0m\u001b[1;33m:\u001b[0m\u001b[1;33m\u001b[0m\u001b[1;33m\u001b[0m\u001b[0m\n\u001b[0;32m    544\u001b[0m         \u001b[1;32mif\u001b[0m \u001b[0mcancellation_manager\u001b[0m \u001b[1;32mis\u001b[0m \u001b[1;32mNone\u001b[0m\u001b[1;33m:\u001b[0m\u001b[1;33m\u001b[0m\u001b[1;33m\u001b[0m\u001b[0m\n\u001b[1;32m--> 545\u001b[1;33m           outputs = execute.execute(\n\u001b[0m\u001b[0;32m    546\u001b[0m               \u001b[0mstr\u001b[0m\u001b[1;33m(\u001b[0m\u001b[0mself\u001b[0m\u001b[1;33m.\u001b[0m\u001b[0msignature\u001b[0m\u001b[1;33m.\u001b[0m\u001b[0mname\u001b[0m\u001b[1;33m)\u001b[0m\u001b[1;33m,\u001b[0m\u001b[1;33m\u001b[0m\u001b[1;33m\u001b[0m\u001b[0m\n\u001b[0;32m    547\u001b[0m               \u001b[0mnum_outputs\u001b[0m\u001b[1;33m=\u001b[0m\u001b[0mself\u001b[0m\u001b[1;33m.\u001b[0m\u001b[0m_num_outputs\u001b[0m\u001b[1;33m,\u001b[0m\u001b[1;33m\u001b[0m\u001b[1;33m\u001b[0m\u001b[0m\n",
      "\u001b[1;32mc:\\users\\anu\\appdata\\local\\programs\\python\\python38\\lib\\site-packages\\tensorflow\\python\\eager\\execute.py\u001b[0m in \u001b[0;36mquick_execute\u001b[1;34m(op_name, num_outputs, inputs, attrs, ctx, name)\u001b[0m\n\u001b[0;32m     57\u001b[0m   \u001b[1;32mtry\u001b[0m\u001b[1;33m:\u001b[0m\u001b[1;33m\u001b[0m\u001b[1;33m\u001b[0m\u001b[0m\n\u001b[0;32m     58\u001b[0m     \u001b[0mctx\u001b[0m\u001b[1;33m.\u001b[0m\u001b[0mensure_initialized\u001b[0m\u001b[1;33m(\u001b[0m\u001b[1;33m)\u001b[0m\u001b[1;33m\u001b[0m\u001b[1;33m\u001b[0m\u001b[0m\n\u001b[1;32m---> 59\u001b[1;33m     tensors = pywrap_tfe.TFE_Py_Execute(ctx._handle, device_name, op_name,\n\u001b[0m\u001b[0;32m     60\u001b[0m                                         inputs, attrs, num_outputs)\n\u001b[0;32m     61\u001b[0m   \u001b[1;32mexcept\u001b[0m \u001b[0mcore\u001b[0m\u001b[1;33m.\u001b[0m\u001b[0m_NotOkStatusException\u001b[0m \u001b[1;32mas\u001b[0m \u001b[0me\u001b[0m\u001b[1;33m:\u001b[0m\u001b[1;33m\u001b[0m\u001b[1;33m\u001b[0m\u001b[0m\n",
      "\u001b[1;31mKeyboardInterrupt\u001b[0m: "
     ]
    }
   ],
   "source": [
    "\n",
    "model=tf.keras.Sequential([tf.keras.layers.Embedding(input_dim=vocab_size,input_length=120,output_dim=16),\n",
    "                           tf.keras.layers.Conv1D(filters=32, kernel_size=5,\n",
    "                               strides=1, padding=\"causal\",\n",
    "                               activation=\"relu\",\n",
    "                               input_shape=[None, 1]),\n",
    "                           tf.keras.layers.Bidirectional(tf.keras.layers.GRU(32)),\n",
    "                           tf.keras.layers.Dense(units=6,activation='relu'),\n",
    "                           tf.keras.layers.Dense(1,activation='sigmoid')])\n",
    "\n",
    "model.compile(loss='binary_crossentropy',optimizer='adam',metrics=['acc'])\n",
    "model.summary()\n",
    "\n",
    "num_epochs = 30\n",
    "history = model.fit(x=train_padded,y=train_labels,validation_data=(validation_padded,validation_labels),epochs=num_epochs)"
   ]
  },
  {
   "cell_type": "code",
   "execution_count": null,
   "metadata": {},
   "outputs": [],
   "source": []
  }
 ],
 "metadata": {
  "kernelspec": {
   "display_name": "Python 3",
   "language": "python",
   "name": "python3"
  },
  "language_info": {
   "codemirror_mode": {
    "name": "ipython",
    "version": 3
   },
   "file_extension": ".py",
   "mimetype": "text/x-python",
   "name": "python",
   "nbconvert_exporter": "python",
   "pygments_lexer": "ipython3",
   "version": "3.8.0"
  }
 },
 "nbformat": 4,
 "nbformat_minor": 4
}
