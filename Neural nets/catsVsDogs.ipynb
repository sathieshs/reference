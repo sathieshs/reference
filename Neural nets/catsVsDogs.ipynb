{
 "cells": [
  {
   "cell_type": "code",
   "execution_count": 1,
   "metadata": {},
   "outputs": [],
   "source": [
    "import requests\n",
    "import tensorflow as tf\n",
    "import tensorflow.keras.preprocessing.image as image\n",
    "import zipfile\n",
    "\n"
   ]
  },
  {
   "cell_type": "code",
   "execution_count": 4,
   "metadata": {},
   "outputs": [
    {
     "ename": "FileNotFoundError",
     "evalue": "[Errno 2] No such file or directory: ''",
     "output_type": "error",
     "traceback": [
      "\u001b[1;31m---------------------------------------------------------------------------\u001b[0m",
      "\u001b[1;31mFileNotFoundError\u001b[0m                         Traceback (most recent call last)",
      "\u001b[1;32m<ipython-input-4-aaf48e05f934>\u001b[0m in \u001b[0;36m<module>\u001b[1;34m\u001b[0m\n\u001b[0;32m      2\u001b[0m \u001b[0mr\u001b[0m \u001b[1;33m=\u001b[0m \u001b[0mrequests\u001b[0m\u001b[1;33m.\u001b[0m\u001b[0mget\u001b[0m\u001b[1;33m(\u001b[0m\u001b[0murl\u001b[0m\u001b[1;33m,\u001b[0m \u001b[0mallow_redirects\u001b[0m\u001b[1;33m=\u001b[0m\u001b[1;32mTrue\u001b[0m\u001b[1;33m)\u001b[0m\u001b[1;33m\u001b[0m\u001b[0m\n\u001b[0;32m      3\u001b[0m \u001b[1;33m\u001b[0m\u001b[0m\n\u001b[1;32m----> 4\u001b[1;33m \u001b[0mopen\u001b[0m\u001b[1;33m(\u001b[0m\u001b[1;34m''\u001b[0m\u001b[1;33m,\u001b[0m\u001b[1;34m'wb'\u001b[0m\u001b[1;33m)\u001b[0m\u001b[1;33m.\u001b[0m\u001b[0mwrite\u001b[0m\u001b[1;33m(\u001b[0m\u001b[0mr\u001b[0m\u001b[1;33m.\u001b[0m\u001b[0mcontent\u001b[0m\u001b[1;33m)\u001b[0m\u001b[1;33m\u001b[0m\u001b[0m\n\u001b[0m\u001b[0;32m      5\u001b[0m \u001b[1;33m\u001b[0m\u001b[0m\n\u001b[0;32m      6\u001b[0m \u001b[1;33m\u001b[0m\u001b[0m\n",
      "\u001b[1;31mFileNotFoundError\u001b[0m: [Errno 2] No such file or directory: ''"
     ]
    }
   ],
   "source": [
    "\n",
    "url = 'https://storage.googleapis.com/mledu-datasets/cats_and_dogs_filtered.zip'\n",
    "r = requests.get(url, allow_redirects=True)\n",
    "\n"
   ]
  },
  {
   "cell_type": "code",
   "execution_count": 5,
   "metadata": {},
   "outputs": [],
   "source": [
    "open('catsVsDogs.zip','wb').write(r.content)\n",
    "\n",
    "\n",
    "\n",
    "with zipfile.ZipFile('catsVsDogs.zip', 'r') as zip_ref:\n",
    "    zip_ref.extractall('.')\n"
   ]
  },
  {
   "cell_type": "code",
   "execution_count": 2,
   "metadata": {},
   "outputs": [
    {
     "name": "stdout",
     "output_type": "stream",
     "text": [
      "<class 'tensorflow.python.keras.preprocessing.image.ImageDataGenerator'>\n"
     ]
    }
   ],
   "source": [
    "train_image_generator=image.ImageDataGenerator(rescale=1./255)\n",
    "#train_datagen = ImageDataGenerator(\n",
    "#      rescale=1./255,\n",
    "#      rotation_range=40,\n",
    "#      width_shift_range=0.2,\n",
    "#      height_shift_range=0.2,\n",
    "#      shear_range=0.2,\n",
    "#      zoom_range=0.2,\n",
    "#      horizontal_flip=True,\n",
    "#      fill_mode='nearest')\n",
    "\n",
    "print(type(train_image_generator))\n",
    "validation_image_generator=image.ImageDataGenerator(rescale=1./255)"
   ]
  },
  {
   "cell_type": "code",
   "execution_count": 3,
   "metadata": {},
   "outputs": [
    {
     "name": "stdout",
     "output_type": "stream",
     "text": [
      "Found 2000 images belonging to 2 classes.\n",
      "Found 1000 images belonging to 2 classes.\n",
      "<class 'tensorflow.python.keras.preprocessing.image.DirectoryIterator'>\n"
     ]
    }
   ],
   "source": [
    "train=train_image_generator.flow_from_directory('.\\\\cats_and_dogs_filtered\\\\train',target_size=(150,150),class_mode='binary',batch_size=20)\n",
    "validation=validation_image_generator.flow_from_directory('.\\\\cats_and_dogs_filtered\\\\validation',target_size=(150,150),class_mode='binary',batch_size=20)\n",
    "print(type(train))\n",
    "model=tf.keras.models.Sequential([tf.keras.layers.Conv2D(16,(3,3),input_shape=(150,150,3),activation='relu'),\n",
    "                                  tf.keras.layers.MaxPool2D((2,2)),\n",
    "                                  tf.keras.layers.Conv2D(32,(3,3),activation='relu'),\n",
    "                                  tf.keras.layers.MaxPool2D((2,2)),\n",
    "                                  tf.keras.layers.Conv2D(64,(3,3),activation='relu'),\n",
    "                                  tf.keras.layers.MaxPool2D((2, 2)),\n",
    "                                  tf.keras.layers.Flatten(),\n",
    "                                  tf.keras.layers.Dense(units=512,activation='relu'),\n",
    "                                 # tf.keras.layers.Dense(units=64,activation='relu'),\n",
    "                                  tf.keras.layers.Dense(units=1,activation='sigmoid')\n",
    "                                  ])"
   ]
  },
  {
   "cell_type": "code",
   "execution_count": null,
   "metadata": {},
   "outputs": [
    {
     "name": "stdout",
     "output_type": "stream",
     "text": [
      "Model: \"sequential\"\n",
      "_________________________________________________________________\n",
      "Layer (type)                 Output Shape              Param #   \n",
      "=================================================================\n",
      "conv2d (Conv2D)              (None, 148, 148, 16)      448       \n",
      "_________________________________________________________________\n",
      "max_pooling2d (MaxPooling2D) (None, 74, 74, 16)        0         \n",
      "_________________________________________________________________\n",
      "conv2d_1 (Conv2D)            (None, 72, 72, 32)        4640      \n",
      "_________________________________________________________________\n",
      "max_pooling2d_1 (MaxPooling2 (None, 36, 36, 32)        0         \n",
      "_________________________________________________________________\n",
      "conv2d_2 (Conv2D)            (None, 34, 34, 64)        18496     \n",
      "_________________________________________________________________\n",
      "max_pooling2d_2 (MaxPooling2 (None, 17, 17, 64)        0         \n",
      "_________________________________________________________________\n",
      "flatten (Flatten)            (None, 18496)             0         \n",
      "_________________________________________________________________\n",
      "dense (Dense)                (None, 512)               9470464   \n",
      "_________________________________________________________________\n",
      "dense_1 (Dense)              (None, 1)                 513       \n",
      "=================================================================\n",
      "Total params: 9,494,561\n",
      "Trainable params: 9,494,561\n",
      "Non-trainable params: 0\n",
      "_________________________________________________________________\n",
      "WARNING:tensorflow:From <ipython-input-4-2eb842b34f7a>:3: Model.fit_generator (from tensorflow.python.keras.engine.training) is deprecated and will be removed in a future version.\n",
      "Instructions for updating:\n",
      "Please use Model.fit, which supports generators.\n",
      "Epoch 1/10\n",
      "10/10 [==============================] - 14s 1s/step - loss: 2.1784 - accuracy: 0.4750 - val_loss: 0.6972 - val_accuracy: 0.4990\n",
      "Epoch 2/10\n",
      "10/10 [==============================] - 5s 452ms/step - loss: 0.7028 - accuracy: 0.5200 - val_loss: 0.6866 - val_accuracy: 0.5840\n",
      "Epoch 3/10\n",
      "10/10 [==============================] - 5s 451ms/step - loss: 0.6916 - accuracy: 0.5850 - val_loss: 0.6894 - val_accuracy: 0.5120\n",
      "Epoch 4/10\n",
      "10/10 [==============================] - 5s 453ms/step - loss: 0.6809 - accuracy: 0.5700 - val_loss: 0.8300 - val_accuracy: 0.5000\n",
      "Epoch 5/10\n",
      " 8/10 [=======================>......] - ETA: 0s - loss: 0.7019 - accuracy: 0.5625"
     ]
    }
   ],
   "source": [
    "model.compile(optimizer=tf.keras.optimizers.RMSprop(lr=0.001),loss='binary_crossentropy',metrics = ['accuracy'])\n",
    "model.summary()\n",
    "model.fit_generator(train,steps_per_epoch=10,epochs=10,validation_data=validation)"
   ]
  },
  {
   "cell_type": "code",
   "execution_count": 16,
   "metadata": {},
   "outputs": [
    {
     "name": "stdout",
     "output_type": "stream",
     "text": [
      "Requirement already satisfied: SciPy in c:\\users\\anu\\appdata\\local\\programs\\python\\python36\\lib\\site-packages (1.5.4)\n",
      "Requirement already satisfied: numpy>=1.14.5 in c:\\users\\anu\\appdata\\local\\programs\\python\\python36\\lib\\site-packages (from SciPy) (1.18.5)\n",
      "Note: you may need to restart the kernel to use updated packages.\n"
     ]
    }
   ],
   "source": []
  },
  {
   "cell_type": "code",
   "execution_count": null,
   "metadata": {},
   "outputs": [],
   "source": []
  }
 ],
 "metadata": {
  "kernelspec": {
   "display_name": "Python 3",
   "language": "python",
   "name": "python3"
  },
  "language_info": {
   "codemirror_mode": {
    "name": "ipython",
    "version": 3
   },
   "file_extension": ".py",
   "mimetype": "text/x-python",
   "name": "python",
   "nbconvert_exporter": "python",
   "pygments_lexer": "ipython3",
   "version": "3.8.0"
  }
 },
 "nbformat": 4,
 "nbformat_minor": 4
}
