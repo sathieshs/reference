{
 "cells": [
  {
   "cell_type": "code",
   "execution_count": 25,
   "metadata": {},
   "outputs": [],
   "source": [
    "\n",
    "import csv\n",
    "import tensorflow as tf\n",
    "import numpy as np\n",
    "import urllib\n"
   ]
  },
  {
   "cell_type": "code",
   "execution_count": 26,
   "metadata": {},
   "outputs": [],
   "source": [
    "# DO NOT CHANGE THIS CODE\n",
    "def windowed_dataset(series, window_size, batch_size, shuffle_buffer):\n",
    "    series = tf.expand_dims(series, axis=-1)\n",
    "    ds = tf.data.Dataset.from_tensor_slices(series)\n",
    "    ds = ds.window(window_size + 1, shift=1, drop_remainder=True)\n",
    "    ds = ds.flat_map(lambda w: w.batch(window_size + 1))\n",
    "    ds = ds.shuffle(shuffle_buffer)\n",
    "    ds = ds.map(lambda w: (w[:-1], w[1:]))\n",
    "    return ds.batch(batch_size).prefetch(1)"
   ]
  },
  {
   "cell_type": "code",
   "execution_count": 27,
   "metadata": {},
   "outputs": [
    {
     "data": {
      "text/plain": [
       "('sunspots.csv', <http.client.HTTPMessage at 0x19eabec50d0>)"
      ]
     },
     "execution_count": 27,
     "metadata": {},
     "output_type": "execute_result"
    }
   ],
   "source": [
    "url = 'https://storage.googleapis.com/download.tensorflow.org/data/Sunspots.csv'\n",
    "urllib.request.urlretrieve(url, 'sunspots.csv')"
   ]
  },
  {
   "cell_type": "code",
   "execution_count": 28,
   "metadata": {},
   "outputs": [],
   "source": [
    "timestep = []\n",
    "sunspots = []\n",
    "with open('Sunspots.csv') as csvfile:\n",
    "    reader=csv.reader(csvfile)\n",
    "    next(reader)\n",
    "    for line in reader:\n",
    "        timestep.append(int(line[0]))\n",
    "        sunspots.append(float(line[2]))"
   ]
  },
  {
   "cell_type": "code",
   "execution_count": 29,
   "metadata": {},
   "outputs": [],
   "source": [
    "\n",
    "series = np.array(sunspots)\n"
   ]
  },
  {
   "cell_type": "code",
   "execution_count": 30,
   "metadata": {},
   "outputs": [],
   "source": [
    "\n",
    "# DO NOT CHANGE THIS CODE\n",
    "# This is the normalization function\n",
    "min = np.min(series)\n",
    "max = np.max(series)\n",
    "series -= min\n",
    "series /= max\n",
    "time = np.array(time_step)"
   ]
  },
  {
   "cell_type": "code",
   "execution_count": 31,
   "metadata": {},
   "outputs": [],
   "source": [
    "split_time = 3000"
   ]
  },
  {
   "cell_type": "code",
   "execution_count": 32,
   "metadata": {},
   "outputs": [],
   "source": [
    "\n",
    "time_train = time[:split_time]\n",
    "x_train = series[:split_time]\n",
    "time_valid = time[split_time:]\n",
    "x_valid = series[split_time:]\n"
   ]
  },
  {
   "cell_type": "code",
   "execution_count": 33,
   "metadata": {},
   "outputs": [],
   "source": [
    "window_size = 30\n",
    "batch_size = 32\n",
    "shuffle_buffer_size = 1000"
   ]
  },
  {
   "cell_type": "code",
   "execution_count": 34,
   "metadata": {},
   "outputs": [],
   "source": [
    "train_set = windowed_dataset(x_train, window_size=window_size, batch_size=batch_size, shuffle_buffer=shuffle_buffer_size)"
   ]
  },
  {
   "cell_type": "code",
   "execution_count": 35,
   "metadata": {},
   "outputs": [],
   "source": [
    "model = tf.keras.models.Sequential([\n",
    "  tf.keras.layers.Conv1D(filters=32, kernel_size=5,\n",
    "                      strides=1, padding=\"causal\",\n",
    "                      activation=\"relu\",\n",
    "                      input_shape=[None, 1]),\n",
    "  tf.keras.layers.LSTM(64, return_sequences=True),\n",
    "  tf.keras.layers.LSTM(64, return_sequences=True),\n",
    "  tf.keras.layers.Dense(30, activation=\"relu\"),\n",
    "  tf.keras.layers.Dense(10, activation=\"relu\"),\n",
    "  tf.keras.layers.Dense(1)\n",
    "])"
   ]
  },
  {
   "cell_type": "code",
   "execution_count": 36,
   "metadata": {},
   "outputs": [
    {
     "name": "stdout",
     "output_type": "stream",
     "text": [
      "Epoch 1/100\n",
      "93/93 [==============================] - 1s 14ms/step - loss: 0.0345 - mae: 0.2017\n",
      "Epoch 2/100\n",
      "93/93 [==============================] - 1s 14ms/step - loss: 0.0335 - mae: 0.1969\n",
      "Epoch 3/100\n",
      "93/93 [==============================] - 1s 14ms/step - loss: 0.0325 - mae: 0.1921\n",
      "Epoch 4/100\n",
      "93/93 [==============================] - 1s 14ms/step - loss: 0.0314 - mae: 0.1875\n",
      "Epoch 5/100\n",
      "93/93 [==============================] - 1s 14ms/step - loss: 0.0304 - mae: 0.1832\n",
      "Epoch 6/100\n",
      "93/93 [==============================] - 1s 14ms/step - loss: 0.0295 - mae: 0.1791\n",
      "Epoch 7/100\n",
      "93/93 [==============================] - 1s 15ms/step - loss: 0.0286 - mae: 0.1754\n",
      "Epoch 8/100\n",
      "93/93 [==============================] - 1s 14ms/step - loss: 0.0278 - mae: 0.1719\n",
      "Epoch 9/100\n",
      "93/93 [==============================] - 1s 15ms/step - loss: 0.0269 - mae: 0.1688\n",
      "Epoch 10/100\n",
      "93/93 [==============================] - 1s 14ms/step - loss: 0.0262 - mae: 0.1659\n",
      "Epoch 11/100\n",
      "93/93 [==============================] - 1s 14ms/step - loss: 0.0255 - mae: 0.1632\n",
      "Epoch 12/100\n",
      "93/93 [==============================] - 1s 14ms/step - loss: 0.0248 - mae: 0.1607\n",
      "Epoch 13/100\n",
      "93/93 [==============================] - 1s 14ms/step - loss: 0.0242 - mae: 0.1585\n",
      "Epoch 14/100\n",
      "93/93 [==============================] - 1s 15ms/step - loss: 0.0236 - mae: 0.1563\n",
      "Epoch 15/100\n",
      "93/93 [==============================] - 1s 15ms/step - loss: 0.0230 - mae: 0.1543\n",
      "Epoch 16/100\n",
      "93/93 [==============================] - 1s 14ms/step - loss: 0.0225 - mae: 0.1525\n",
      "Epoch 17/100\n",
      "93/93 [==============================] - 1s 14ms/step - loss: 0.0220 - mae: 0.1508\n",
      "Epoch 18/100\n",
      "93/93 [==============================] - 1s 15ms/step - loss: 0.0215 - mae: 0.1492\n",
      "Epoch 19/100\n",
      "93/93 [==============================] - 1s 14ms/step - loss: 0.0211 - mae: 0.1478\n",
      "Epoch 20/100\n",
      "93/93 [==============================] - 1s 14ms/step - loss: 0.0206 - mae: 0.1464\n",
      "Epoch 21/100\n",
      "93/93 [==============================] - 1s 14ms/step - loss: 0.0203 - mae: 0.1451\n",
      "Epoch 22/100\n",
      "93/93 [==============================] - 1s 14ms/step - loss: 0.0199 - mae: 0.1439\n",
      "Epoch 23/100\n",
      "93/93 [==============================] - 1s 14ms/step - loss: 0.0195 - mae: 0.1428\n",
      "Epoch 24/100\n",
      "93/93 [==============================] - 1s 14ms/step - loss: 0.0192 - mae: 0.1418\n",
      "Epoch 25/100\n",
      "93/93 [==============================] - 1s 14ms/step - loss: 0.0189 - mae: 0.1409\n",
      "Epoch 26/100\n",
      "93/93 [==============================] - 1s 14ms/step - loss: 0.0186 - mae: 0.1400\n",
      "Epoch 27/100\n",
      "93/93 [==============================] - 1s 14ms/step - loss: 0.0183 - mae: 0.1392\n",
      "Epoch 28/100\n",
      "93/93 [==============================] - 1s 14ms/step - loss: 0.0181 - mae: 0.1384\n",
      "Epoch 29/100\n",
      "93/93 [==============================] - 1s 14ms/step - loss: 0.0178 - mae: 0.1378\n",
      "Epoch 30/100\n",
      "93/93 [==============================] - 1s 14ms/step - loss: 0.0176 - mae: 0.1371\n",
      "Epoch 31/100\n",
      "93/93 [==============================] - 1s 15ms/step - loss: 0.0174 - mae: 0.1365\n",
      "Epoch 32/100\n",
      "93/93 [==============================] - 1s 14ms/step - loss: 0.0172 - mae: 0.1360\n",
      "Epoch 33/100\n",
      "93/93 [==============================] - 1s 14ms/step - loss: 0.0170 - mae: 0.1355\n",
      "Epoch 34/100\n",
      "93/93 [==============================] - 1s 14ms/step - loss: 0.0168 - mae: 0.1350\n",
      "Epoch 35/100\n",
      "93/93 [==============================] - 1s 14ms/step - loss: 0.0166 - mae: 0.1345\n",
      "Epoch 36/100\n",
      "93/93 [==============================] - 1s 15ms/step - loss: 0.0164 - mae: 0.1341\n",
      "Epoch 37/100\n",
      "93/93 [==============================] - 1s 14ms/step - loss: 0.0163 - mae: 0.1338\n",
      "Epoch 38/100\n",
      "93/93 [==============================] - 1s 15ms/step - loss: 0.0161 - mae: 0.1334\n",
      "Epoch 39/100\n",
      "93/93 [==============================] - 1s 14ms/step - loss: 0.0160 - mae: 0.1331\n",
      "Epoch 40/100\n",
      "93/93 [==============================] - 1s 14ms/step - loss: 0.0158 - mae: 0.1328\n",
      "Epoch 41/100\n",
      "93/93 [==============================] - 1s 14ms/step - loss: 0.0157 - mae: 0.1325\n",
      "Epoch 42/100\n",
      "93/93 [==============================] - 1s 14ms/step - loss: 0.0156 - mae: 0.1322\n",
      "Epoch 43/100\n",
      "93/93 [==============================] - 1s 15ms/step - loss: 0.0155 - mae: 0.1320\n",
      "Epoch 44/100\n",
      "93/93 [==============================] - 1s 14ms/step - loss: 0.0154 - mae: 0.1318\n",
      "Epoch 45/100\n",
      "93/93 [==============================] - 1s 14ms/step - loss: 0.0153 - mae: 0.1315\n",
      "Epoch 46/100\n",
      "93/93 [==============================] - 1s 14ms/step - loss: 0.0152 - mae: 0.1313\n",
      "Epoch 47/100\n",
      "93/93 [==============================] - 1s 14ms/step - loss: 0.0151 - mae: 0.1312\n",
      "Epoch 48/100\n",
      "93/93 [==============================] - 1s 14ms/step - loss: 0.0150 - mae: 0.1310\n",
      "Epoch 49/100\n",
      "93/93 [==============================] - 1s 14ms/step - loss: 0.0149 - mae: 0.1308\n",
      "Epoch 50/100\n",
      "93/93 [==============================] - 1s 14ms/step - loss: 0.0148 - mae: 0.1307\n",
      "Epoch 51/100\n",
      "93/93 [==============================] - 1s 14ms/step - loss: 0.0148 - mae: 0.1305\n",
      "Epoch 52/100\n",
      "93/93 [==============================] - 1s 15ms/step - loss: 0.0147 - mae: 0.1304\n",
      "Epoch 53/100\n",
      "93/93 [==============================] - 1s 14ms/step - loss: 0.0146 - mae: 0.1303\n",
      "Epoch 54/100\n",
      "93/93 [==============================] - 1s 14ms/step - loss: 0.0145 - mae: 0.1302\n",
      "Epoch 55/100\n",
      "93/93 [==============================] - 1s 14ms/step - loss: 0.0145 - mae: 0.1301\n",
      "Epoch 56/100\n",
      "93/93 [==============================] - 1s 14ms/step - loss: 0.0144 - mae: 0.1300\n",
      "Epoch 57/100\n",
      "93/93 [==============================] - 1s 15ms/step - loss: 0.0144 - mae: 0.1299\n",
      "Epoch 58/100\n",
      "93/93 [==============================] - 1s 14ms/step - loss: 0.0143 - mae: 0.1298\n",
      "Epoch 59/100\n",
      "93/93 [==============================] - 1s 15ms/step - loss: 0.0143 - mae: 0.1298\n",
      "Epoch 60/100\n",
      "93/93 [==============================] - 1s 15ms/step - loss: 0.0142 - mae: 0.1297\n",
      "Epoch 61/100\n",
      "93/93 [==============================] - 1s 14ms/step - loss: 0.0142 - mae: 0.1296\n",
      "Epoch 62/100\n",
      "93/93 [==============================] - 1s 14ms/step - loss: 0.0141 - mae: 0.1296\n",
      "Epoch 63/100\n",
      "93/93 [==============================] - 1s 14ms/step - loss: 0.0141 - mae: 0.1295\n",
      "Epoch 64/100\n",
      "93/93 [==============================] - 1s 14ms/step - loss: 0.0140 - mae: 0.1294\n",
      "Epoch 65/100\n",
      "93/93 [==============================] - 1s 15ms/step - loss: 0.0140 - mae: 0.1294\n",
      "Epoch 66/100\n",
      "93/93 [==============================] - 1s 15ms/step - loss: 0.0140 - mae: 0.1293\n",
      "Epoch 67/100\n",
      "93/93 [==============================] - 1s 14ms/step - loss: 0.0139 - mae: 0.1293\n",
      "Epoch 68/100\n",
      "93/93 [==============================] - 1s 14ms/step - loss: 0.0139 - mae: 0.1293\n",
      "Epoch 69/100\n",
      "93/93 [==============================] - 1s 15ms/step - loss: 0.0138 - mae: 0.1292\n",
      "Epoch 70/100\n",
      "93/93 [==============================] - 1s 14ms/step - loss: 0.0138 - mae: 0.1292\n",
      "Epoch 71/100\n",
      "93/93 [==============================] - 1s 14ms/step - loss: 0.0138 - mae: 0.1291\n",
      "Epoch 72/100\n",
      "93/93 [==============================] - 1s 15ms/step - loss: 0.0137 - mae: 0.1291\n",
      "Epoch 73/100\n",
      "93/93 [==============================] - 1s 15ms/step - loss: 0.0137 - mae: 0.1291\n",
      "Epoch 74/100\n",
      "93/93 [==============================] - 1s 14ms/step - loss: 0.0137 - mae: 0.1291\n",
      "Epoch 75/100\n",
      "93/93 [==============================] - 1s 14ms/step - loss: 0.0137 - mae: 0.1290\n",
      "Epoch 76/100\n",
      "93/93 [==============================] - 1s 14ms/step - loss: 0.0136 - mae: 0.1290\n",
      "Epoch 77/100\n",
      "93/93 [==============================] - 1s 14ms/step - loss: 0.0136 - mae: 0.1290\n",
      "Epoch 78/100\n",
      "93/93 [==============================] - 1s 15ms/step - loss: 0.0136 - mae: 0.1289\n",
      "Epoch 79/100\n",
      "93/93 [==============================] - 1s 15ms/step - loss: 0.0136 - mae: 0.1289\n",
      "Epoch 80/100\n",
      "93/93 [==============================] - 1s 15ms/step - loss: 0.0135 - mae: 0.1289\n",
      "Epoch 81/100\n",
      "93/93 [==============================] - 1s 15ms/step - loss: 0.0135 - mae: 0.1289\n",
      "Epoch 82/100\n",
      "93/93 [==============================] - 1s 14ms/step - loss: 0.0135 - mae: 0.1288\n",
      "Epoch 83/100\n",
      "93/93 [==============================] - 1s 14ms/step - loss: 0.0135 - mae: 0.1288\n",
      "Epoch 84/100\n",
      "93/93 [==============================] - 1s 15ms/step - loss: 0.0134 - mae: 0.1288\n",
      "Epoch 85/100\n",
      "93/93 [==============================] - 1s 14ms/step - loss: 0.0134 - mae: 0.1288\n",
      "Epoch 86/100\n"
     ]
    },
    {
     "name": "stdout",
     "output_type": "stream",
     "text": [
      "93/93 [==============================] - 1s 15ms/step - loss: 0.0134 - mae: 0.1287\n",
      "Epoch 87/100\n",
      "93/93 [==============================] - 1s 15ms/step - loss: 0.0134 - mae: 0.1287\n",
      "Epoch 88/100\n",
      "93/93 [==============================] - 1s 15ms/step - loss: 0.0134 - mae: 0.1287\n",
      "Epoch 89/100\n",
      "93/93 [==============================] - 1s 15ms/step - loss: 0.0133 - mae: 0.1286\n",
      "Epoch 90/100\n",
      "93/93 [==============================] - 1s 15ms/step - loss: 0.0133 - mae: 0.1286\n",
      "Epoch 91/100\n",
      "93/93 [==============================] - 1s 15ms/step - loss: 0.0133 - mae: 0.1286\n",
      "Epoch 92/100\n",
      "93/93 [==============================] - 1s 15ms/step - loss: 0.0133 - mae: 0.1286\n",
      "Epoch 93/100\n",
      "93/93 [==============================] - 1s 15ms/step - loss: 0.0133 - mae: 0.1285\n",
      "Epoch 94/100\n",
      "93/93 [==============================] - 1s 14ms/step - loss: 0.0133 - mae: 0.1285\n",
      "Epoch 95/100\n",
      "93/93 [==============================] - 1s 14ms/step - loss: 0.0132 - mae: 0.1285\n",
      "Epoch 96/100\n",
      "93/93 [==============================] - 1s 14ms/step - loss: 0.0132 - mae: 0.1284\n",
      "Epoch 97/100\n",
      "93/93 [==============================] - 1s 14ms/step - loss: 0.0132 - mae: 0.1284\n",
      "Epoch 98/100\n",
      "93/93 [==============================] - 1s 14ms/step - loss: 0.0132 - mae: 0.1284\n",
      "Epoch 99/100\n",
      "93/93 [==============================] - 1s 14ms/step - loss: 0.0132 - mae: 0.1284\n",
      "Epoch 100/100\n",
      "93/93 [==============================] - 1s 14ms/step - loss: 0.0132 - mae: 0.1283\n"
     ]
    }
   ],
   "source": [
    "optimizer = tf.keras.optimizers.SGD(lr=1e-5, momentum=0.9)\n",
    "model.compile(loss=tf.keras.losses.Huber(),\n",
    "              optimizer=optimizer,\n",
    "              metrics=[\"mae\"])\n",
    "history = model.fit(train_set, epochs=100)"
   ]
  },
  {
   "cell_type": "code",
   "execution_count": 37,
   "metadata": {},
   "outputs": [
    {
     "name": "stdout",
     "output_type": "stream",
     "text": [
      "0.113982946\n",
      "5\n"
     ]
    }
   ],
   "source": [
    "import math \n",
    "def model_forecast(model, series, window_size):\n",
    "    ds = tf.data.Dataset.from_tensor_slices(series)\n",
    "    ds = ds.window(window_size, shift=1, drop_remainder=True)\n",
    "    ds = ds.flat_map(lambda w: w.batch(window_size))\n",
    "    ds = ds.batch(32).prefetch(1)\n",
    "    forecast = model.predict(ds)\n",
    "    return forecast\n",
    "\n",
    "window_size = 30\n",
    "rnn_forecast = model_forecast(model, series[..., np.newaxis], window_size)\n",
    "rnn_forecast = rnn_forecast[split_time - window_size:-1, -1, 0]\n",
    "\n",
    "result = tf.keras.metrics.mean_absolute_error(x_valid, rnn_forecast).numpy()\n",
    "test_val = 100 * result\n",
    "score = math.ceil(17 - test_val)\n",
    "if score > 5:\n",
    "    score = 5\n",
    "print(result)\n",
    "print(score)"
   ]
  },
  {
   "cell_type": "code",
   "execution_count": null,
   "metadata": {},
   "outputs": [],
   "source": []
  }
 ],
 "metadata": {
  "kernelspec": {
   "display_name": "Python 3",
   "language": "python",
   "name": "python3"
  },
  "language_info": {
   "codemirror_mode": {
    "name": "ipython",
    "version": 3
   },
   "file_extension": ".py",
   "mimetype": "text/x-python",
   "name": "python",
   "nbconvert_exporter": "python",
   "pygments_lexer": "ipython3",
   "version": "3.8.0"
  }
 },
 "nbformat": 4,
 "nbformat_minor": 4
}
